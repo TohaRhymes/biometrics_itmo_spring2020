{
 "cells": [
  {
   "cell_type": "markdown",
   "metadata": {},
   "source": [
    "## Лабораторная работа  по биометрии №3\n",
    "<div style=\"text-align: right\"> \n",
    "    Чангалиди Антон, P3214\n",
    "<br>\n",
    "   Исследование общей вариабельности и внутренней организации сердечного ритма\n",
    "</div>"
   ]
  },
  {
   "cell_type": "code",
   "execution_count": 1,
   "metadata": {},
   "outputs": [],
   "source": [
    "import pandas as pd\n",
    "import numpy as np\n",
    "import math\n",
    "import matplotlib\n",
    "import matplotlib.pyplot as plt"
   ]
  },
  {
   "cell_type": "markdown",
   "metadata": {},
   "source": [
    "Прочитаем данные:"
   ]
  },
  {
   "cell_type": "code",
   "execution_count": 2,
   "metadata": {},
   "outputs": [
    {
     "data": {
      "text/html": [
       "<div>\n",
       "<style scoped>\n",
       "    .dataframe tbody tr th:only-of-type {\n",
       "        vertical-align: middle;\n",
       "    }\n",
       "\n",
       "    .dataframe tbody tr th {\n",
       "        vertical-align: top;\n",
       "    }\n",
       "\n",
       "    .dataframe thead th {\n",
       "        text-align: right;\n",
       "    }\n",
       "</style>\n",
       "<table border=\"1\" class=\"dataframe\">\n",
       "  <thead>\n",
       "    <tr style=\"text-align: right;\">\n",
       "      <th></th>\n",
       "      <th>R</th>\n",
       "    </tr>\n",
       "  </thead>\n",
       "  <tbody>\n",
       "    <tr>\n",
       "      <th>0</th>\n",
       "      <td>866</td>\n",
       "    </tr>\n",
       "    <tr>\n",
       "      <th>1</th>\n",
       "      <td>927</td>\n",
       "    </tr>\n",
       "    <tr>\n",
       "      <th>2</th>\n",
       "      <td>924</td>\n",
       "    </tr>\n",
       "    <tr>\n",
       "      <th>3</th>\n",
       "      <td>892</td>\n",
       "    </tr>\n",
       "    <tr>\n",
       "      <th>4</th>\n",
       "      <td>897</td>\n",
       "    </tr>\n",
       "    <tr>\n",
       "      <th>...</th>\n",
       "      <td>...</td>\n",
       "    </tr>\n",
       "    <tr>\n",
       "      <th>295</th>\n",
       "      <td>842</td>\n",
       "    </tr>\n",
       "    <tr>\n",
       "      <th>296</th>\n",
       "      <td>829</td>\n",
       "    </tr>\n",
       "    <tr>\n",
       "      <th>297</th>\n",
       "      <td>806</td>\n",
       "    </tr>\n",
       "    <tr>\n",
       "      <th>298</th>\n",
       "      <td>883</td>\n",
       "    </tr>\n",
       "    <tr>\n",
       "      <th>299</th>\n",
       "      <td>882</td>\n",
       "    </tr>\n",
       "  </tbody>\n",
       "</table>\n",
       "<p>300 rows × 1 columns</p>\n",
       "</div>"
      ],
      "text/plain": [
       "       R\n",
       "0    866\n",
       "1    927\n",
       "2    924\n",
       "3    892\n",
       "4    897\n",
       "..   ...\n",
       "295  842\n",
       "296  829\n",
       "297  806\n",
       "298  883\n",
       "299  882\n",
       "\n",
       "[300 rows x 1 columns]"
      ]
     },
     "execution_count": 2,
     "metadata": {},
     "output_type": "execute_result"
    }
   ],
   "source": [
    "data = pd.read_csv('4_f_1.csv', names = ['R'])\n",
    "data"
   ]
  },
  {
   "cell_type": "markdown",
   "metadata": {},
   "source": [
    "Возьму конкретную серию, чтобы было удобнее."
   ]
  },
  {
   "cell_type": "code",
   "execution_count": 3,
   "metadata": {},
   "outputs": [],
   "source": [
    "R = data.R"
   ]
  },
  {
   "cell_type": "markdown",
   "metadata": {},
   "source": [
    "1. По заданному массиву кардиоинтервалов рассчитать основные параметры вариабельности: \n",
    "* среднее значение $$ M = \\frac{\\sum_{i=1}^n X_i}{n} $$\n",
    "* среднеквадратическое отклонение $$ SDNN = \\sqrt{\\frac{\\sum{i=1}^n (M - X_i)^2}{n}} $$,  \n",
    "* коэффициент вариации $$CV = \\frac{SDNN}{M}*100\\%$$.\n",
    "\n",
    "*(буду пользоваться стандартными функциями Пандаса)*"
   ]
  },
  {
   "cell_type": "code",
   "execution_count": 4,
   "metadata": {},
   "outputs": [],
   "source": [
    "def statistics(series):\n",
    "    M = series.mean()\n",
    "    SDNN = series.std(ddof = 0)\n",
    "    CV = SDNN / M * 100\n",
    "    print(f'Среднее значение: {M}\\nСтандартное отклонение: {SDNN}\\nКоэффициент вариации: {CV} %')\n",
    "    return M, SDNN, CV"
   ]
  },
  {
   "cell_type": "code",
   "execution_count": 5,
   "metadata": {},
   "outputs": [
    {
     "name": "stdout",
     "output_type": "stream",
     "text": [
      "Среднее значение: 840.22\n",
      "Стандартное отклонение: 66.71075575447585\n",
      "Коэффициент вариации: 7.939677198171413 %\n"
     ]
    }
   ],
   "source": [
    "M, SDNN, CV = statistics(R)"
   ]
  },
  {
   "cell_type": "markdown",
   "metadata": {},
   "source": [
    "2. По заданному массиву кардиоинтервалов построить гистограмму с шагом 50 мс (0.05 с)"
   ]
  },
  {
   "cell_type": "code",
   "execution_count": 6,
   "metadata": {},
   "outputs": [],
   "source": [
    "def histogram(R):\n",
    "    minimum = int(R.min() // 50 * 50)\n",
    "    maximum = int(R.max() // 50 * 50)\n",
    "    vals = []\n",
    "    amounts = []\n",
    "    print(f'Minimum = {R.min()}\\nMaximun = {R.max()}\\n')\n",
    "    for i in range (minimum, maximum+50, 50):\n",
    "        amounts.append(R.where(R >= i).where(R<i+50).count())\n",
    "        vals.append(i)\n",
    "    vals.append(maximum+50)\n",
    "    plt.hist(x = R, bins = vals)\n",
    "    plt.show()\n",
    "    print('Проверка:')\n",
    "    for i in range(len(amounts)):\n",
    "        print(f'Для интервала {vals[i]}-{vals[i+1]} количество значений = {amounts[i]}')\n",
    "    return amounts, vals"
   ]
  },
  {
   "cell_type": "code",
   "execution_count": 7,
   "metadata": {
    "scrolled": true
   },
   "outputs": [
    {
     "name": "stdout",
     "output_type": "stream",
     "text": [
      "Minimum = 662\n",
      "Maximun = 1056\n",
      "\n"
     ]
    },
    {
     "data": {
      "image/png": "[encoded data removed]",
      "text/plain": [
       "<Figure size 432x288 with 1 Axes>"
      ]
     },
     "metadata": {
      "needs_background": "light"
     },
     "output_type": "display_data"
    },
    {
     "name": "stdout",
     "output_type": "stream",
     "text": [
      "Проверка:\n",
      "Для интервала 650-700 количество значений = 6\n",
      "Для интервала 700-750 количество значений = 32\n",
      "Для интервала 750-800 количество значений = 39\n",
      "Для интервала 800-850 количество значений = 72\n",
      "Для интервала 850-900 количество значений = 99\n",
      "Для интервала 900-950 количество значений = 44\n",
      "Для интервала 950-1000 количество значений = 5\n",
      "Для интервала 1000-1050 количество значений = 2\n",
      "Для интервала 1050-1100 количество значений = 1\n"
     ]
    }
   ],
   "source": [
    "amounts, vals = histogram(R)"
   ]
  },
  {
   "cell_type": "markdown",
   "metadata": {},
   "source": [
    "3. По полученному графику определить амплитуду моды АMо, которая соответствует максимальному значению, и моду Mо – значение аргумента в точке максимума.\n",
    "\n",
    "    Ответ:\n",
    "    * АМо = $\\frac{99}{300} \\cdot 100\\% = 33\\%$\n",
    "    * Мода лежит в интервале 850-900. Можно заметить, что среднее значение (равное 850) лежит близко, но не в интервале Моды (так как плотность распределения не симметрична). Так как мы строили гистограмму, то для значения возьму среднее $Mo = \\frac{900+850}{2} = 875\\text{мс} = 0.875$ с\n",
    "\n",
    "\n",
    "4. Определить вариационный размах MxDMn.\n",
    "\n",
    "    * $MxDMn = 1056 - 662 = 394 \\text{мс} = 0.394$ с\n",
    "\n",
    "5. Рассчитать индекс напряжения регуляторных систем ИН.\n",
    "    * $\\text{ИН} = \\frac{AMo \\cdot 100\\%}{2\\cdot Mo \\cdot MxDMn} = \\frac{0.33 \\cdot 100\\%}{2\\cdot 0.875 \\cdot 0.394} = 47.86  \\text{ у.е.}$\n",
    "    \n",
    "    (Достаточно спокойно)"
   ]
  },
  {
   "cell_type": "markdown",
   "metadata": {},
   "source": [
    "6. По заданному массиву кардиоинтервалов построить график автокоррелограммы.\n",
    "\n",
    "Рабочая формула:\n",
    "![](long_formula.png)"
   ]
  },
  {
   "cell_type": "code",
   "execution_count": 8,
   "metadata": {},
   "outputs": [],
   "source": [
    "def r_0_k(R, k, m):\n",
    "    r = R.to_numpy()\n",
    "    rrr = (m * sum(r[0:m]*r[k:m+k]) - sum(r[0:m]) * sum(r[k:m+k])) /\\\n",
    "        math.sqrt((m * sum(r[0:m] ** 2) - sum(r[0:m]) ** 2) * (m * sum(r[k:k+m] ** 2) - sum(r[k:k+m]) ** 2))\n",
    "    return rrr"
   ]
  },
  {
   "cell_type": "code",
   "execution_count": 9,
   "metadata": {},
   "outputs": [],
   "source": [
    "def draw_autocorr(R, k_range):\n",
    "    x = []\n",
    "    y = []\n",
    "    n = len(R)\n",
    "    for k in range(0, k_range+1):\n",
    "        x.append(k)\n",
    "        y.append(r_0_k(R, k, n-k))\n",
    "    plt.axhline(y=0, color='b', linestyle='-')\n",
    "    plt.plot(x, y, 'b*')\n",
    "    plt.show"
   ]
  },
  {
   "cell_type": "code",
   "execution_count": 10,
   "metadata": {},
   "outputs": [
    {
     "data": {
      "image/png": "[encoded data removed]",
      "text/plain": [
       "<Figure size 432x288 with 1 Axes>"
      ]
     },
     "metadata": {
      "needs_background": "light"
     },
     "output_type": "display_data"
    }
   ],
   "source": [
    "draw_autocorr(R, 30)"
   ]
  },
  {
   "cell_type": "markdown",
   "metadata": {},
   "source": [
    "Построим график из библиотеки для сравнения:"
   ]
  },
  {
   "cell_type": "code",
   "execution_count": 11,
   "metadata": {},
   "outputs": [
    {
     "data": {
      "image/png": "[encoded data removed]",
      "text/plain": [
       "<Figure size 432x288 with 1 Axes>"
      ]
     },
     "metadata": {
      "needs_background": "light"
     },
     "output_type": "display_data"
    }
   ],
   "source": [
    "from statsmodels.graphics.tsaplots import plot_acf\n",
    "plot_acf(R)\n",
    "plt.show()"
   ]
  },
  {
   "cell_type": "markdown",
   "metadata": {},
   "source": [
    "Голубым показан доверительный интервал.\n",
    "\n",
    "\n",
    "Все совпадает!"
   ]
  },
  {
   "cell_type": "markdown",
   "metadata": {},
   "source": [
    "7. Рассчитать значение коэффициента корреляции после первого сдвига СС1 и число сдвигов до первого нулевого значения коэффициента корреляции СС0. "
   ]
  },
  {
   "cell_type": "code",
   "execution_count": 12,
   "metadata": {},
   "outputs": [
    {
     "name": "stdout",
     "output_type": "stream",
     "text": [
      "Коэффициент корреляции после первого сдвига:\n",
      "CC1 = 0.7437720428042796\n"
     ]
    }
   ],
   "source": [
    "print(f'Коэффициент корреляции после первого сдвига:\\nCC1 = {r_0_k(R, 1, len(R) - 1)}')"
   ]
  },
  {
   "cell_type": "markdown",
   "metadata": {},
   "source": [
    "Так как коэффициент корреляции после первого сдвига лишь незначительно ниже единицы (на 0.25), значит доминируют медленноволновые компоненты).\n",
    "\n",
    "Таким образом:\n",
    "* $CC1 = 0.74$ (из расчетов)\n",
    "* $CC0 = 12$ (видно по графику)"
   ]
  },
  {
   "cell_type": "markdown",
   "metadata": {},
   "source": [
    "8. По заданному массиву кардиоинтервалов построить корреляционную ритмограмму."
   ]
  },
  {
   "cell_type": "code",
   "execution_count": 13,
   "metadata": {},
   "outputs": [],
   "source": [
    "def ritmo(R):\n",
    "    n = len(R)\n",
    "    plt.figure(figsize=(5,5))\n",
    "    plt.plot(R[0:n-1:]/1000,R[1:n:]/1000,'r+')\n",
    "    plt.xlim(0.5, 1.5)\n",
    "    plt.ylim(0.5, 1.5)\n",
    "    plt.show()"
   ]
  },
  {
   "cell_type": "code",
   "execution_count": 14,
   "metadata": {},
   "outputs": [
    {
     "data": {
      "image/png": "[encoded data removed]",
      "text/plain": [
       "<Figure size 360x360 with 1 Axes>"
      ]
     },
     "metadata": {
      "needs_background": "light"
     },
     "output_type": "display_data"
    }
   ],
   "source": [
    "ritmo(R)"
   ]
  },
  {
   "cell_type": "markdown",
   "metadata": {},
   "source": [
    "Все действительно группируется в один овал длиной примерно 0.4 (соответствует вариационному размаху и хорошо коррелирует с величиной мощности спектра высокочастотного компонента вариабельности HF), а ширина = 0.2 - с величиной мощности спектра низкочастотного компонента вариабельности с LF)."
   ]
  }
 ],
 "metadata": {
  "kernelspec": {
   "display_name": "Python 3",
   "language": "python",
   "name": "python3"
  },
  "language_info": {
   "codemirror_mode": {
    "name": "ipython",
    "version": 3
   },
   "file_extension": ".py",
   "mimetype": "text/x-python",
   "name": "python",
   "nbconvert_exporter": "python",
   "pygments_lexer": "ipython3",
   "version": "3.7.6"
  }
 },
 "nbformat": 4,
 "nbformat_minor": 4
}
